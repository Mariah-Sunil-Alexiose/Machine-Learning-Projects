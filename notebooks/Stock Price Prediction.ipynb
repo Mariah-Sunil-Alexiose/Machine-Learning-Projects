{
 "cells": [
  {
   "cell_type": "code",
   "execution_count": 1,
   "id": "c2e308d3",
   "metadata": {},
   "outputs": [],
   "source": [
    "import numpy as np\n",
    "import pandas as pd\n",
    "import yfinance as yf\n",
    "import seaborn as sns\n",
    "import matplotlib.pyplot as plt\n",
    "%matplotlib inline "
   ]
  },
  {
   "cell_type": "code",
   "execution_count": 2,
   "id": "8a7fab4b",
   "metadata": {},
   "outputs": [
    {
     "name": "stdout",
     "output_type": "stream",
     "text": [
      "Enter the code of the stack: GC=F\n",
      "[*********************100%***********************]  1 of 1 completed\n"
     ]
    },
    {
     "data": {
      "text/html": [
       "<div>\n",
       "<style scoped>\n",
       "    .dataframe tbody tr th:only-of-type {\n",
       "        vertical-align: middle;\n",
       "    }\n",
       "\n",
       "    .dataframe tbody tr th {\n",
       "        vertical-align: top;\n",
       "    }\n",
       "\n",
       "    .dataframe thead th {\n",
       "        text-align: right;\n",
       "    }\n",
       "</style>\n",
       "<table border=\"1\" class=\"dataframe\">\n",
       "  <thead>\n",
       "    <tr style=\"text-align: right;\">\n",
       "      <th></th>\n",
       "      <th>Open</th>\n",
       "      <th>High</th>\n",
       "      <th>Low</th>\n",
       "      <th>Close</th>\n",
       "      <th>Volume</th>\n",
       "    </tr>\n",
       "    <tr>\n",
       "      <th>Date</th>\n",
       "      <th></th>\n",
       "      <th></th>\n",
       "      <th></th>\n",
       "      <th></th>\n",
       "      <th></th>\n",
       "    </tr>\n",
       "  </thead>\n",
       "  <tbody>\n",
       "    <tr>\n",
       "      <th>2007-12-31</th>\n",
       "      <td>843.200012</td>\n",
       "      <td>843.200012</td>\n",
       "      <td>843.200012</td>\n",
       "      <td>834.900024</td>\n",
       "      <td>4</td>\n",
       "    </tr>\n",
       "    <tr>\n",
       "      <th>2008-01-02</th>\n",
       "      <td>848.700012</td>\n",
       "      <td>857.799988</td>\n",
       "      <td>846.400024</td>\n",
       "      <td>857.000000</td>\n",
       "      <td>130</td>\n",
       "    </tr>\n",
       "    <tr>\n",
       "      <th>2008-01-03</th>\n",
       "      <td>863.000000</td>\n",
       "      <td>865.500000</td>\n",
       "      <td>856.299988</td>\n",
       "      <td>866.400024</td>\n",
       "      <td>181</td>\n",
       "    </tr>\n",
       "    <tr>\n",
       "      <th>2008-01-04</th>\n",
       "      <td>861.400024</td>\n",
       "      <td>865.500000</td>\n",
       "      <td>860.200012</td>\n",
       "      <td>863.099976</td>\n",
       "      <td>28</td>\n",
       "    </tr>\n",
       "    <tr>\n",
       "      <th>2008-01-07</th>\n",
       "      <td>860.900024</td>\n",
       "      <td>860.900024</td>\n",
       "      <td>857.400024</td>\n",
       "      <td>859.599976</td>\n",
       "      <td>4</td>\n",
       "    </tr>\n",
       "  </tbody>\n",
       "</table>\n",
       "</div>"
      ],
      "text/plain": [
       "                  Open        High         Low       Close  Volume\n",
       "Date                                                              \n",
       "2007-12-31  843.200012  843.200012  843.200012  834.900024       4\n",
       "2008-01-02  848.700012  857.799988  846.400024  857.000000     130\n",
       "2008-01-03  863.000000  865.500000  856.299988  866.400024     181\n",
       "2008-01-04  861.400024  865.500000  860.200012  863.099976      28\n",
       "2008-01-07  860.900024  860.900024  857.400024  859.599976       4"
      ]
     },
     "execution_count": 2,
     "metadata": {},
     "output_type": "execute_result"
    }
   ],
   "source": [
    "stocks = input(\"Enter the code of the stack: \")\n",
    "data = yf.download(stocks, \"2008-01-01\", \"2021-01-18\", auto_adjust=True)\n",
    "data.head()"
   ]
  },
  {
   "cell_type": "code",
   "execution_count": 3,
   "id": "b6047b23",
   "metadata": {},
   "outputs": [
    {
     "data": {
      "text/plain": [
       "(3255, 5)"
      ]
     },
     "execution_count": 3,
     "metadata": {},
     "output_type": "execute_result"
    }
   ],
   "source": [
    "data.shape"
   ]
  },
  {
   "cell_type": "code",
   "execution_count": 4,
   "id": "4cfd6210",
   "metadata": {},
   "outputs": [
    {
     "name": "stdout",
     "output_type": "stream",
     "text": [
      "<class 'pandas.core.frame.DataFrame'>\n",
      "DatetimeIndex: 3255 entries, 2007-12-31 to 2021-01-15\n",
      "Data columns (total 5 columns):\n",
      " #   Column  Non-Null Count  Dtype  \n",
      "---  ------  --------------  -----  \n",
      " 0   Open    3255 non-null   float64\n",
      " 1   High    3255 non-null   float64\n",
      " 2   Low     3255 non-null   float64\n",
      " 3   Close   3255 non-null   float64\n",
      " 4   Volume  3255 non-null   int64  \n",
      "dtypes: float64(4), int64(1)\n",
      "memory usage: 152.6 KB\n"
     ]
    }
   ],
   "source": [
    "data.info()"
   ]
  },
  {
   "cell_type": "code",
   "execution_count": 5,
   "id": "3b2827d4",
   "metadata": {},
   "outputs": [
    {
     "data": {
      "text/html": [
       "<div>\n",
       "<style scoped>\n",
       "    .dataframe tbody tr th:only-of-type {\n",
       "        vertical-align: middle;\n",
       "    }\n",
       "\n",
       "    .dataframe tbody tr th {\n",
       "        vertical-align: top;\n",
       "    }\n",
       "\n",
       "    .dataframe thead th {\n",
       "        text-align: right;\n",
       "    }\n",
       "</style>\n",
       "<table border=\"1\" class=\"dataframe\">\n",
       "  <thead>\n",
       "    <tr style=\"text-align: right;\">\n",
       "      <th></th>\n",
       "      <th>Open</th>\n",
       "      <th>High</th>\n",
       "      <th>Low</th>\n",
       "      <th>Close</th>\n",
       "      <th>Volume</th>\n",
       "    </tr>\n",
       "  </thead>\n",
       "  <tbody>\n",
       "    <tr>\n",
       "      <th>count</th>\n",
       "      <td>3255.000000</td>\n",
       "      <td>3255.000000</td>\n",
       "      <td>3255.000000</td>\n",
       "      <td>3255.000000</td>\n",
       "      <td>3255.000000</td>\n",
       "    </tr>\n",
       "    <tr>\n",
       "      <th>mean</th>\n",
       "      <td>1316.159816</td>\n",
       "      <td>1323.292996</td>\n",
       "      <td>1308.347497</td>\n",
       "      <td>1315.899631</td>\n",
       "      <td>5542.007680</td>\n",
       "    </tr>\n",
       "    <tr>\n",
       "      <th>std</th>\n",
       "      <td>262.677504</td>\n",
       "      <td>263.982520</td>\n",
       "      <td>261.225100</td>\n",
       "      <td>262.713551</td>\n",
       "      <td>29509.825257</td>\n",
       "    </tr>\n",
       "    <tr>\n",
       "      <th>min</th>\n",
       "      <td>705.000000</td>\n",
       "      <td>715.500000</td>\n",
       "      <td>681.000000</td>\n",
       "      <td>704.900024</td>\n",
       "      <td>0.000000</td>\n",
       "    </tr>\n",
       "    <tr>\n",
       "      <th>25%</th>\n",
       "      <td>1183.250000</td>\n",
       "      <td>1189.200012</td>\n",
       "      <td>1176.349976</td>\n",
       "      <td>1183.450012</td>\n",
       "      <td>41.500000</td>\n",
       "    </tr>\n",
       "    <tr>\n",
       "      <th>50%</th>\n",
       "      <td>1282.599976</td>\n",
       "      <td>1287.300049</td>\n",
       "      <td>1278.000000</td>\n",
       "      <td>1282.500000</td>\n",
       "      <td>138.000000</td>\n",
       "    </tr>\n",
       "    <tr>\n",
       "      <th>75%</th>\n",
       "      <td>1486.049988</td>\n",
       "      <td>1491.549988</td>\n",
       "      <td>1477.100037</td>\n",
       "      <td>1483.349976</td>\n",
       "      <td>442.000000</td>\n",
       "    </tr>\n",
       "    <tr>\n",
       "      <th>max</th>\n",
       "      <td>2045.500000</td>\n",
       "      <td>2063.000000</td>\n",
       "      <td>2040.000000</td>\n",
       "      <td>2051.500000</td>\n",
       "      <td>386334.000000</td>\n",
       "    </tr>\n",
       "  </tbody>\n",
       "</table>\n",
       "</div>"
      ],
      "text/plain": [
       "              Open         High          Low        Close         Volume\n",
       "count  3255.000000  3255.000000  3255.000000  3255.000000    3255.000000\n",
       "mean   1316.159816  1323.292996  1308.347497  1315.899631    5542.007680\n",
       "std     262.677504   263.982520   261.225100   262.713551   29509.825257\n",
       "min     705.000000   715.500000   681.000000   704.900024       0.000000\n",
       "25%    1183.250000  1189.200012  1176.349976  1183.450012      41.500000\n",
       "50%    1282.599976  1287.300049  1278.000000  1282.500000     138.000000\n",
       "75%    1486.049988  1491.549988  1477.100037  1483.349976     442.000000\n",
       "max    2045.500000  2063.000000  2040.000000  2051.500000  386334.000000"
      ]
     },
     "execution_count": 5,
     "metadata": {},
     "output_type": "execute_result"
    }
   ],
   "source": [
    "data.describe()"
   ]
  },
  {
   "cell_type": "code",
   "execution_count": 6,
   "id": "c4d339ee",
   "metadata": {},
   "outputs": [
    {
     "data": {
      "image/png": "[encoded data removed]",
      "text/plain": [
       "<Figure size 720x504 with 1 Axes>"
      ]
     },
     "metadata": {
      "needs_background": "light"
     },
     "output_type": "display_data"
    }
   ],
   "source": [
    "data.Close.plot(figsize=(10,7), color='r')\n",
    "plt.ylabel('{} Prices'.format(stocks))\n",
    "plt.title('{} Price Series'.format(stocks))\n",
    "plt.show()"
   ]
  },
  {
   "cell_type": "code",
   "execution_count": 7,
   "id": "aee33d0a",
   "metadata": {},
   "outputs": [
    {
     "data": {
      "text/plain": [
       "<seaborn.axisgrid.FacetGrid at 0x226057bb310>"
      ]
     },
     "execution_count": 7,
     "metadata": {},
     "output_type": "execute_result"
    },
    {
     "data": {
      "image/png": "[encoded data removed]",
      "text/plain": [
       "<Figure size 360x360 with 1 Axes>"
      ]
     },
     "metadata": {
      "needs_background": "light"
     },
     "output_type": "display_data"
    }
   ],
   "source": [
    "sns.displot(data['Close'])"
   ]
  },
  {
   "cell_type": "code",
   "execution_count": 8,
   "id": "2ae59bec",
   "metadata": {},
   "outputs": [
    {
     "data": {
      "text/plain": [
       "<seaborn.axisgrid.FacetGrid at 0x226059a6b80>"
      ]
     },
     "execution_count": 8,
     "metadata": {},
     "output_type": "execute_result"
    },
    {
     "data": {
      "image/png": "[encoded data removed]",
      "text/plain": [
       "<Figure size 360x360 with 1 Axes>"
      ]
     },
     "metadata": {
      "needs_background": "light"
     },
     "output_type": "display_data"
    }
   ],
   "source": [
    "sns.displot(data['High'])"
   ]
  },
  {
   "cell_type": "code",
   "execution_count": 9,
   "id": "17c93ad5",
   "metadata": {},
   "outputs": [
    {
     "name": "stdout",
     "output_type": "stream",
     "text": [
      "(2604, 4) (651, 4) (2604,) (651,)\n"
     ]
    }
   ],
   "source": [
    "# Conclusions\n",
    "# It is non linear.\n",
    "# Linear, Logis, Regularized, SVM\n",
    "\n",
    "X=data.drop('Close', axis=1)\n",
    "Y=data['Close']\n",
    "\n",
    "from sklearn.model_selection import train_test_split\n",
    "\n",
    "X_train, X_test, Y_train, Y_test = train_test_split(X, Y, test_size=0.2, random_state=0)\n",
    "print(X_train.shape, X_test.shape, Y_train.shape, Y_test.shape)"
   ]
  },
  {
   "cell_type": "code",
   "execution_count": 10,
   "id": "1ed852df",
   "metadata": {},
   "outputs": [
    {
     "data": {
      "text/plain": [
       "array([1223.19608754, 1462.14877539, 1172.28237937, 1370.6182366 ,\n",
       "        934.12363108, 1216.87097755, 1324.81607016, 1208.63152272,\n",
       "       1319.75960204, 1122.06312357, 1056.00357204, 1190.98865588,\n",
       "       1197.4627865 , 1163.4596951 , 1694.37782965, 1164.03287553,\n",
       "        920.1483    , 1750.39684246, 1072.7336427 , 1850.42455768,\n",
       "       1331.61658097, 1647.57888077, 1938.07910134, 1350.73084822,\n",
       "       1551.38444451,  898.93877774, 1672.55546118, 1163.44760878,\n",
       "       1735.52666887, 1376.45980342, 1231.77092346, 1790.3187491 ,\n",
       "       1327.25049503,  868.68783016, 1099.51453116, 1293.47722468,\n",
       "       1340.5977834 , 1710.25157629, 1129.60255973, 1488.26584207,\n",
       "       1438.36241185, 1321.91485631, 1227.19383887, 1607.49340271,\n",
       "       1531.88673656, 1317.15701025, 1278.78313315, 1558.64141449,\n",
       "       1420.88691611, 1335.46420124, 1271.8270204 , 1351.77115791,\n",
       "       1325.55512899, 1325.36648828, 1294.41295588,  868.3743405 ,\n",
       "       1891.04204222, 1812.43162789, 1286.07637171,  902.34843678,\n",
       "       1095.4119529 , 1885.73627638, 1147.33194941, 1510.9493341 ,\n",
       "        888.80183231, 1129.06607518, 1362.70827254,  917.21268886,\n",
       "       1157.5442279 , 1341.54753718, 1345.41924238, 1326.67391175,\n",
       "       1482.62318276, 1333.06913571, 1284.3165316 , 1249.0057782 ,\n",
       "        914.18517066, 1584.55867921, 1103.97251701,  911.22054093,\n",
       "       1253.65615631, 1756.24523718, 1290.53313353, 1924.802718  ,\n",
       "       1380.63347519, 1473.0595117 ,  914.76736596,  973.06181791,\n",
       "       1293.12548513, 1371.5300818 , 1849.31449122, 1329.09577767,\n",
       "        884.08485434, 1737.1321314 , 1244.85732507, 1573.6083568 ,\n",
       "       1294.1427754 , 1137.08384993, 1277.85536282, 1674.34065207,\n",
       "       1201.9960562 , 1940.61413586, 1218.01517856, 1279.98352144,\n",
       "       1210.40897393, 1278.96705351, 1396.44649306, 1273.57664789,\n",
       "       1593.43189864, 1307.91049823, 1317.75431839, 1223.37808863,\n",
       "       1233.79509325, 1539.35486805,  752.61407189, 1230.31150736,\n",
       "       1523.55765764, 1866.21523032,  887.67503237, 1055.63286873,\n",
       "       1624.99321277, 1259.42948389, 1220.23280891, 1245.01377725,\n",
       "       1308.6802592 , 1533.43856472, 1179.84790663, 1291.31058186,\n",
       "       1196.06701149,  861.57070633, 1232.22070502, 1775.59173321,\n",
       "       1273.96204186, 1343.98487883, 1565.307213  , 1775.24977322,\n",
       "       1582.0228836 , 1340.60773055, 1315.22224505, 1382.90068479,\n",
       "       1277.53898883, 1633.04702187, 1117.08624469, 1377.38776863,\n",
       "       1287.63849078,  731.82635766, 1391.07908274,  932.67308131,\n",
       "       1744.78908715, 1530.92169576, 1296.75898107, 1280.86813653,\n",
       "       1510.46259266, 1244.9076193 , 1189.02986258, 1602.78554702,\n",
       "       1262.77652581, 1649.43063399, 1645.81280941, 1579.16169525,\n",
       "       1088.45055377, 1333.63845178, 1234.66388644, 1282.83580058,\n",
       "        903.46916149, 1251.75495238, 1327.9038933 , 1659.49215663,\n",
       "       1299.86491286, 1815.54763554, 1718.40380907,  857.21344944,\n",
       "       1980.68342119,  900.55673914, 1122.33545749, 1122.10844157,\n",
       "       1879.53651167, 1891.05848681, 1514.28466376, 1243.64332143,\n",
       "       1164.45000261, 1291.32831963, 1584.40197646, 1220.75894388,\n",
       "       1059.52582048, 1272.16093828, 1266.284977  , 1958.81010189,\n",
       "       1918.2552515 , 1583.76471923, 1502.20276866, 1287.69169716,\n",
       "       1194.57931544, 1768.93895622, 1175.19885462, 1361.21905015,\n",
       "       1578.75294762, 1241.42754428, 1937.8075778 , 1325.79786044,\n",
       "       1089.56041027, 1625.30311723, 1194.54116324, 1546.58440008,\n",
       "       1263.91109865, 1253.24203095,  908.31610217, 1251.69359983,\n",
       "       1224.70713461, 1696.5671308 , 1267.09776269, 1237.32124125,\n",
       "       1258.9455087 , 1111.73413176, 1331.18365119,  902.44901061,\n",
       "       1348.58209323,  963.66808662, 1157.80767751, 1806.69193183,\n",
       "       1266.83274132, 1212.76910704, 1213.70553425, 1116.24089109,\n",
       "       1729.45502796, 1065.20849874, 1290.56001564, 1701.32333066,\n",
       "       1729.0063409 , 1387.24707604, 1091.56843638, 1329.54105363,\n",
       "       1692.71474334, 1292.48621906, 1286.62619036, 1595.05869358,\n",
       "       1309.64360735, 1211.11416984, 1335.53949829, 1359.7976674 ,\n",
       "        749.35876897, 1489.96817977, 1274.44407745,  927.9800974 ,\n",
       "       1574.46710541, 1304.84977177, 1128.1905921 , 1276.42194519,\n",
       "       1459.0551375 , 1285.23411895,  811.31640083,  900.47005338,\n",
       "        851.75412156,  922.40315482, 1173.43982171, 1102.8052665 ,\n",
       "       1278.60926297, 1246.07412336, 1195.83450332, 1639.77112572,\n",
       "       1269.01036482, 1090.69381574, 1304.16760983,  877.57802998,\n",
       "       1670.27158655, 1195.62175062, 1076.5502783 , 1306.40255558,\n",
       "       1296.0154106 , 1580.9021645 , 1225.6280763 , 1720.62668886,\n",
       "        925.47838118, 1692.32279953, 1340.61118684, 1180.66205418,\n",
       "       1303.86830075, 1226.96177401,  954.16187042, 1557.77132319,\n",
       "       1419.54826151, 1672.1435641 , 1351.30743826, 1339.17591421,\n",
       "       1291.94125082, 1644.62913326,  794.74814145, 1359.25685963,\n",
       "       1476.63369391, 1603.66952814, 1725.32111834, 1670.10936746,\n",
       "       1314.03352556, 1608.12593467,  956.23903209, 1105.49125603,\n",
       "       1276.61991347, 1501.94227588, 1408.67249645, 1320.95586926,\n",
       "       1639.87914413, 1163.19743528, 1229.52267649, 1132.56539626,\n",
       "       1262.27281342, 1237.88900939, 1316.97450802,  907.83307943,\n",
       "       1710.56374058, 1201.04253734, 1874.79125015, 1219.12257892,\n",
       "       1314.43050747, 1533.11173864, 1202.01193549,  853.91389094,\n",
       "       1409.12831807, 1290.83732109, 1854.71030214,  847.00463062,\n",
       "       1321.46580007, 1106.98691129, 1473.91224213, 1196.75841541,\n",
       "       1772.82647937, 1891.72744509,  923.39372545, 1742.74028252,\n",
       "       1667.22498952, 1429.01776745, 1419.30096241, 1583.189384  ,\n",
       "       1269.73089554, 1191.63258099, 1638.93650169, 1053.85548575,\n",
       "       1082.3525358 , 1113.56254688, 1452.86292246, 1647.6041224 ,\n",
       "       1228.09219376,  940.8672783 , 1219.98987204, 1594.57279071,\n",
       "       1317.24525699, 1583.19803651, 1172.8015009 ,  897.85942514,\n",
       "       1243.54039109, 1206.07908015,  910.59045579, 1230.72165514,\n",
       "        823.06254417, 1177.28188087, 1234.32397515, 1172.07559152,\n",
       "        978.00814344, 1254.12762076, 1155.49562961, 1636.68614474,\n",
       "       1268.72918862, 1188.27294303, 1274.86762722, 1212.23127467,\n",
       "       1398.47930814, 1212.92637185, 1257.32556973, 1489.84822476,\n",
       "       1164.57179677,  943.09179245, 1319.34323887, 1193.49060046,\n",
       "       1197.50451822, 1225.63881212, 1285.10298096, 1474.49852567,\n",
       "       1200.77367255, 1700.98622244, 1228.32671357, 1814.70293665,\n",
       "       1865.04085312, 1670.59041975, 1323.72478107, 1281.62150661,\n",
       "       1900.99734874, 1290.61162112, 1573.40452946, 1200.50706179,\n",
       "       1379.75614581, 1347.33148528, 1786.90293845, 1178.0499559 ,\n",
       "       1298.38487042, 1619.5937485 , 1325.23835008, 1298.82926177,\n",
       "        901.42206984,  981.52445382, 1561.63609971, 1775.86968266,\n",
       "       1306.33412196, 1466.8863522 , 1764.83435264, 1885.7640465 ,\n",
       "       1182.41408468,  963.84935196, 1715.29742474, 1182.63130983,\n",
       "        852.9739786 ,  791.1607018 , 1312.09435965, 1325.33583751,\n",
       "       1134.61810942, 1474.77714711,  858.23955035, 1342.05671129,\n",
       "       1191.29760851,  751.64333707, 1146.15653465, 1144.32510708,\n",
       "       1860.11112868, 1342.56943756, 1383.91794434, 1078.02435006,\n",
       "       1662.16304072,  903.61799552, 1315.99024561, 1652.55825923,\n",
       "       1225.41158698, 1391.29032267, 1291.79845731, 1253.60882543,\n",
       "       1738.09322874, 1229.99437321, 1472.94789372, 1075.76005872,\n",
       "       1109.21896392, 1277.58793232, 1711.44720559, 1246.57313523,\n",
       "       1323.13603739, 1340.68553907,  990.09060804, 1821.95905408,\n",
       "       1622.13669537, 1678.80922651, 1617.84463553, 1381.89609252,\n",
       "       1342.45752972, 1689.23324746, 1769.43047248, 1226.28226538,\n",
       "       1317.92704388,  933.73420335, 1224.79638349, 1762.75088455,\n",
       "       1123.83063654, 1336.22899105, 1556.17406311, 1248.23108287,\n",
       "        879.71195583,  952.26064876, 1212.55763061, 1280.72906156,\n",
       "       1293.46759948, 1294.79428026, 1166.54942226, 1332.2645445 ,\n",
       "       1649.94796445, 1062.34293597, 1148.32186232, 1107.59150971,\n",
       "       1266.43766178, 1070.33713981,  992.50959361, 1336.78490124,\n",
       "       1251.97245374, 1199.0980224 , 1214.91527367, 1598.87294875,\n",
       "       1267.21259705, 1254.86239285,  876.83526697,  928.55639258,\n",
       "       1317.5212275 , 1699.22134467, 1491.79216308, 1613.92754992,\n",
       "        889.36322208, 1658.55185984, 1543.28951914, 1713.52437166,\n",
       "        802.07851376, 1501.52848746, 1337.96929075, 1426.01966849,\n",
       "       1527.50295434, 1254.94461418, 1339.22341063, 1309.66901899,\n",
       "       1246.37079759, 1328.24770861, 1698.11436009, 1296.42966286,\n",
       "       1222.01664745, 1263.88390801, 1235.30587927, 1364.36278556,\n",
       "        879.31663484, 1238.50487732, 1283.12543508, 1665.50679556,\n",
       "       1154.4609927 , 1178.65965312, 1316.51349922, 1342.64547205,\n",
       "       1210.31887308, 1245.65329383, 1247.25710718, 1463.55406826,\n",
       "       1467.91439762, 1152.93606883, 1218.86393644, 1216.38613824,\n",
       "       1348.23459274, 1674.58264545, 1592.81156921, 1334.91033419,\n",
       "       1158.25325848, 1652.59753691, 1304.72858804, 1584.58655875,\n",
       "       1162.06979509, 1325.9179614 , 1250.57077213, 1681.30568243,\n",
       "       1184.65507751, 1145.07720284, 1093.4902959 , 1304.09527046,\n",
       "       1277.35862197, 1196.47844963, 1185.97189444, 1944.15621093,\n",
       "       1216.263111  ,  905.60175245, 1678.09907624, 1161.025417  ,\n",
       "       1215.1903527 , 1272.88671956,  930.52479743, 1225.67840069,\n",
       "        910.95116078, 1257.65500505, 1489.41001554, 1255.75177202,\n",
       "       1235.2090116 , 1630.19192972, 1183.83532178, 1268.85097534,\n",
       "       1368.19507091,  808.06562171, 1310.31063527, 1709.80021688,\n",
       "       1174.49089759, 1134.67496544, 1660.54789205, 1294.84079073,\n",
       "       1154.41761252, 1196.50404039, 1307.33700024, 1500.9601961 ,\n",
       "       1221.96823705, 1864.10972702, 1179.92895764, 1189.60277122,\n",
       "       1333.14411682, 1112.61797129, 1750.79815451,  817.88092595,\n",
       "       1206.57484033, 1356.17449085, 1707.07550153, 1218.45781712,\n",
       "       1279.8641122 ,  773.6133337 , 1195.3053769 , 1269.17525552,\n",
       "       1577.66353102, 1538.36101837, 1495.68639859, 1350.74465308,\n",
       "        957.07370291, 1290.59645678, 1858.90775112, 1061.7268113 ,\n",
       "       1282.06772659, 1181.03053091, 1602.71466517, 1116.9097816 ,\n",
       "        846.96348285, 1107.15303417,  870.65723272, 1243.77756636,\n",
       "       1579.18301335, 1592.39888364, 1333.79544055, 1116.77666447,\n",
       "       1222.50388214, 1228.01023594, 1245.41059342, 1310.42088797,\n",
       "       1766.49964319, 1731.93983802, 1430.12442652, 1268.31336322,\n",
       "        988.91311629, 1728.03102406, 1538.30501208, 1761.08622293,\n",
       "       1691.06995018, 1116.35145636, 1239.93490019, 1268.24089458,\n",
       "       1493.85150087, 1786.9922895 ,  878.31371672, 1527.68206816,\n",
       "       1101.56436696,  886.10156681, 1240.48665684, 1332.36896884,\n",
       "       1130.30777808, 1115.75345931,  893.26866701, 1286.96402677,\n",
       "       1159.49072565, 1250.34238313, 1617.48123412, 1206.78123747,\n",
       "       1268.1840167 ,  923.74794866, 1848.22190624, 1858.08223713,\n",
       "        966.41881922, 1572.23061041, 1350.27923325, 1055.03244224,\n",
       "       1176.63514351, 1396.76421532, 1578.75761758])"
      ]
     },
     "execution_count": 10,
     "metadata": {},
     "output_type": "execute_result"
    }
   ],
   "source": [
    "from sklearn.linear_model import LinearRegression\n",
    "lr = LinearRegression()\n",
    "lr.fit(X_train,Y_train)\n",
    "pred1 = lr.predict(X_test)\n",
    "pred1"
   ]
  },
  {
   "cell_type": "code",
   "execution_count": 11,
   "id": "19edd940",
   "metadata": {},
   "outputs": [
    {
     "data": {
      "text/plain": [
       "Date\n",
       "2018-11-08    1222.900024\n",
       "2013-04-26    1453.599976\n",
       "2015-06-24    1172.599976\n",
       "2013-06-11    1377.000000\n",
       "2009-03-13     929.799988\n",
       "                 ...     \n",
       "2016-08-01    1351.400024\n",
       "2009-10-23    1055.599976\n",
       "2015-06-11    1179.900024\n",
       "2010-11-10    1399.099976\n",
       "2012-07-20    1582.500000\n",
       "Name: Close, Length: 651, dtype: float64"
      ]
     },
     "execution_count": 11,
     "metadata": {},
     "output_type": "execute_result"
    }
   ],
   "source": [
    "Y_test"
   ]
  },
  {
   "cell_type": "code",
   "execution_count": 12,
   "id": "50110dcf",
   "metadata": {},
   "outputs": [
    {
     "name": "stdout",
     "output_type": "stream",
     "text": [
      "MSE:  32.00549655296971\n",
      "RMSE:  5.657340059866448\n",
      "R2 Score:  0.9995320882760993\n"
     ]
    }
   ],
   "source": [
    "#MSE = Mean Squared\n",
    "#RMSE = root mean square error\n",
    "# r2_square --->1.0 # good model\n",
    "\n",
    "from sklearn.metrics import mean_squared_error, r2_score\n",
    "def calculate_metrics(Y_test, Y_pred):\n",
    "    mse = mean_squared_error(Y_test, Y_pred)\n",
    "    rmse = np.sqrt(mse)\n",
    "    r2 = r2_score(Y_test, Y_pred)\n",
    "    print('MSE: ', mse)\n",
    "    print('RMSE: ', rmse)\n",
    "    print('R2 Score: ', r2)\n",
    "calculate_metrics(Y_test, pred1)"
   ]
  },
  {
   "cell_type": "code",
   "execution_count": 13,
   "id": "69653c33",
   "metadata": {},
   "outputs": [
    {
     "name": "stdout",
     "output_type": "stream",
     "text": [
      "MSE:  51.805307958749225\n",
      "RMSE:  7.197590427271423\n",
      "R2 Score:  0.9992426203757199\n"
     ]
    },
    {
     "name": "stderr",
     "output_type": "stream",
     "text": [
      "c:\\users\\rsale\\python\\py396\\lib\\site-packages\\sklearn\\linear_model\\_coordinate_descent.py:647: ConvergenceWarning: Objective did not converge. You might want to increase the number of iterations, check the scale of the features or consider increasing regularisation. Duality gap: 5.607e+04, tolerance: 1.800e+04\n",
      "  model = cd_fast.enet_coordinate_descent(\n"
     ]
    }
   ],
   "source": [
    "from sklearn.linear_model import Lasso, Ridge\n",
    "\n",
    "la = Lasso().fit(X_train, Y_train)\n",
    "rg = Ridge().fit(X_train, Y_train)\n",
    "\n",
    "la_p = la.predict(X_test)\n",
    "ri_p = rg.predict(X_test)\n",
    "\n",
    "calculate_metrics(Y_test, la_p)"
   ]
  },
  {
   "cell_type": "code",
   "execution_count": 14,
   "id": "aba60bb4",
   "metadata": {},
   "outputs": [
    {
     "name": "stdout",
     "output_type": "stream",
     "text": [
      "MSE:  32.00554746147135\n",
      "RMSE:  5.6573445591965985\n",
      "R2 Score:  0.9995320875318308\n"
     ]
    }
   ],
   "source": [
    "calculate_metrics(Y_test, ri_p)"
   ]
  },
  {
   "cell_type": "code",
   "execution_count": 15,
   "id": "394d7471",
   "metadata": {},
   "outputs": [
    {
     "name": "stdout",
     "output_type": "stream",
     "text": [
      "Fitting 5 folds for each of 25 candidates, totalling 125 fits\n",
      "[CV 1/5] END .......C=0.1, gamma=1, kernel=rbf;, score=-0.033 total time=   1.3s\n",
      "[CV 2/5] END .......C=0.1, gamma=1, kernel=rbf;, score=-0.014 total time=   1.0s\n",
      "[CV 3/5] END .......C=0.1, gamma=1, kernel=rbf;, score=-0.003 total time=   1.2s\n",
      "[CV 4/5] END .......C=0.1, gamma=1, kernel=rbf;, score=-0.008 total time=   1.3s\n",
      "[CV 5/5] END .......C=0.1, gamma=1, kernel=rbf;, score=-0.030 total time=   1.1s\n",
      "[CV 1/5] END .....C=0.1, gamma=0.1, kernel=rbf;, score=-0.033 total time=   1.1s\n",
      "[CV 2/5] END .....C=0.1, gamma=0.1, kernel=rbf;, score=-0.014 total time=   1.2s\n",
      "[CV 3/5] END .....C=0.1, gamma=0.1, kernel=rbf;, score=-0.003 total time=   1.1s\n",
      "[CV 4/5] END .....C=0.1, gamma=0.1, kernel=rbf;, score=-0.007 total time=   1.1s\n",
      "[CV 5/5] END .....C=0.1, gamma=0.1, kernel=rbf;, score=-0.030 total time=   1.1s\n",
      "[CV 1/5] END ....C=0.1, gamma=0.01, kernel=rbf;, score=-0.033 total time=   1.1s\n",
      "[CV 2/5] END ....C=0.1, gamma=0.01, kernel=rbf;, score=-0.014 total time=   1.0s\n",
      "[CV 3/5] END ....C=0.1, gamma=0.01, kernel=rbf;, score=-0.003 total time=   1.1s\n",
      "[CV 4/5] END ....C=0.1, gamma=0.01, kernel=rbf;, score=-0.007 total time=   1.0s\n",
      "[CV 5/5] END ....C=0.1, gamma=0.01, kernel=rbf;, score=-0.030 total time=   1.1s\n",
      "[CV 1/5] END ...C=0.1, gamma=0.001, kernel=rbf;, score=-0.031 total time=   0.9s\n",
      "[CV 2/5] END ...C=0.1, gamma=0.001, kernel=rbf;, score=-0.012 total time=   0.9s\n",
      "[CV 3/5] END ...C=0.1, gamma=0.001, kernel=rbf;, score=-0.000 total time=   0.9s\n",
      "[CV 4/5] END ...C=0.1, gamma=0.001, kernel=rbf;, score=-0.005 total time=   0.9s\n",
      "[CV 5/5] END ...C=0.1, gamma=0.001, kernel=rbf;, score=-0.028 total time=   0.9s\n",
      "[CV 1/5] END ..C=0.1, gamma=0.0001, kernel=rbf;, score=-0.015 total time=   0.8s\n",
      "[CV 2/5] END ...C=0.1, gamma=0.0001, kernel=rbf;, score=0.007 total time=   0.7s\n",
      "[CV 3/5] END ...C=0.1, gamma=0.0001, kernel=rbf;, score=0.017 total time=   0.8s\n",
      "[CV 4/5] END ...C=0.1, gamma=0.0001, kernel=rbf;, score=0.014 total time=   0.5s\n",
      "[CV 5/5] END ..C=0.1, gamma=0.0001, kernel=rbf;, score=-0.009 total time=   0.6s\n",
      "[CV 1/5] END .........C=1, gamma=1, kernel=rbf;, score=-0.033 total time=   0.7s\n",
      "[CV 2/5] END .........C=1, gamma=1, kernel=rbf;, score=-0.014 total time=   0.9s\n",
      "[CV 3/5] END .........C=1, gamma=1, kernel=rbf;, score=-0.003 total time=   0.7s\n",
      "[CV 4/5] END .........C=1, gamma=1, kernel=rbf;, score=-0.008 total time=   0.8s\n",
      "[CV 5/5] END .........C=1, gamma=1, kernel=rbf;, score=-0.030 total time=   0.9s\n",
      "[CV 1/5] END .......C=1, gamma=0.1, kernel=rbf;, score=-0.033 total time=   0.8s\n",
      "[CV 2/5] END .......C=1, gamma=0.1, kernel=rbf;, score=-0.014 total time=   0.7s\n",
      "[CV 3/5] END .......C=1, gamma=0.1, kernel=rbf;, score=-0.003 total time=   0.8s\n",
      "[CV 4/5] END .......C=1, gamma=0.1, kernel=rbf;, score=-0.007 total time=   0.9s\n",
      "[CV 5/5] END .......C=1, gamma=0.1, kernel=rbf;, score=-0.030 total time=   0.9s\n",
      "[CV 1/5] END ......C=1, gamma=0.01, kernel=rbf;, score=-0.033 total time=   1.2s\n",
      "[CV 2/5] END ......C=1, gamma=0.01, kernel=rbf;, score=-0.012 total time=   1.0s\n",
      "[CV 3/5] END ......C=1, gamma=0.01, kernel=rbf;, score=-0.001 total time=   1.3s\n",
      "[CV 4/5] END ......C=1, gamma=0.01, kernel=rbf;, score=-0.006 total time=   0.9s\n",
      "[CV 5/5] END ......C=1, gamma=0.01, kernel=rbf;, score=-0.029 total time=   1.0s\n",
      "[CV 1/5] END .....C=1, gamma=0.001, kernel=rbf;, score=-0.012 total time=   0.9s\n",
      "[CV 2/5] END ......C=1, gamma=0.001, kernel=rbf;, score=0.013 total time=   0.6s\n",
      "[CV 3/5] END ......C=1, gamma=0.001, kernel=rbf;, score=0.023 total time=   0.8s\n",
      "[CV 4/5] END ......C=1, gamma=0.001, kernel=rbf;, score=0.019 total time=   0.8s\n",
      "[CV 5/5] END .....C=1, gamma=0.001, kernel=rbf;, score=-0.004 total time=   0.8s\n",
      "[CV 1/5] END .....C=1, gamma=0.0001, kernel=rbf;, score=0.117 total time=   0.7s\n",
      "[CV 2/5] END .....C=1, gamma=0.0001, kernel=rbf;, score=0.154 total time=   0.7s\n",
      "[CV 3/5] END .....C=1, gamma=0.0001, kernel=rbf;, score=0.150 total time=   1.0s\n",
      "[CV 4/5] END .....C=1, gamma=0.0001, kernel=rbf;, score=0.157 total time=   0.8s\n",
      "[CV 5/5] END .....C=1, gamma=0.0001, kernel=rbf;, score=0.136 total time=   0.7s\n",
      "[CV 1/5] END ........C=10, gamma=1, kernel=rbf;, score=-0.034 total time=   1.1s\n",
      "[CV 2/5] END ........C=10, gamma=1, kernel=rbf;, score=-0.015 total time=   0.9s\n",
      "[CV 3/5] END ........C=10, gamma=1, kernel=rbf;, score=-0.003 total time=   0.8s\n",
      "[CV 4/5] END ........C=10, gamma=1, kernel=rbf;, score=-0.008 total time=   0.7s\n",
      "[CV 5/5] END ........C=10, gamma=1, kernel=rbf;, score=-0.029 total time=   0.9s\n",
      "[CV 1/5] END ......C=10, gamma=0.1, kernel=rbf;, score=-0.034 total time=   0.8s\n",
      "[CV 2/5] END ......C=10, gamma=0.1, kernel=rbf;, score=-0.014 total time=   0.8s\n",
      "[CV 3/5] END ......C=10, gamma=0.1, kernel=rbf;, score=-0.002 total time=   0.8s\n",
      "[CV 4/5] END ......C=10, gamma=0.1, kernel=rbf;, score=-0.007 total time=   0.7s\n",
      "[CV 5/5] END ......C=10, gamma=0.1, kernel=rbf;, score=-0.029 total time=   0.6s\n",
      "[CV 1/5] END .....C=10, gamma=0.01, kernel=rbf;, score=-0.016 total time=   0.6s\n",
      "[CV 2/5] END ......C=10, gamma=0.01, kernel=rbf;, score=0.008 total time=   0.8s\n",
      "[CV 3/5] END ......C=10, gamma=0.01, kernel=rbf;, score=0.018 total time=   0.8s\n",
      "[CV 4/5] END ......C=10, gamma=0.01, kernel=rbf;, score=0.011 total time=   0.7s\n",
      "[CV 5/5] END .....C=10, gamma=0.01, kernel=rbf;, score=-0.008 total time=   0.7s\n",
      "[CV 1/5] END .....C=10, gamma=0.001, kernel=rbf;, score=0.143 total time=   0.7s\n",
      "[CV 2/5] END .....C=10, gamma=0.001, kernel=rbf;, score=0.193 total time=   0.6s\n",
      "[CV 3/5] END .....C=10, gamma=0.001, kernel=rbf;, score=0.181 total time=   0.7s\n",
      "[CV 4/5] END .....C=10, gamma=0.001, kernel=rbf;, score=0.187 total time=   0.6s\n",
      "[CV 5/5] END .....C=10, gamma=0.001, kernel=rbf;, score=0.166 total time=   0.7s\n",
      "[CV 1/5] END ....C=10, gamma=0.0001, kernel=rbf;, score=0.555 total time=   0.5s\n",
      "[CV 2/5] END ....C=10, gamma=0.0001, kernel=rbf;, score=0.624 total time=   0.5s\n",
      "[CV 3/5] END ....C=10, gamma=0.0001, kernel=rbf;, score=0.601 total time=   0.5s\n",
      "[CV 4/5] END ....C=10, gamma=0.0001, kernel=rbf;, score=0.603 total time=   0.6s\n",
      "[CV 5/5] END ....C=10, gamma=0.0001, kernel=rbf;, score=0.621 total time=   0.6s\n",
      "[CV 1/5] END .......C=100, gamma=1, kernel=rbf;, score=-0.032 total time=   0.7s\n",
      "[CV 2/5] END .......C=100, gamma=1, kernel=rbf;, score=-0.011 total time=   0.8s\n",
      "[CV 3/5] END .......C=100, gamma=1, kernel=rbf;, score=-0.002 total time=   0.8s\n",
      "[CV 4/5] END .......C=100, gamma=1, kernel=rbf;, score=-0.006 total time=   0.8s\n",
      "[CV 5/5] END .......C=100, gamma=1, kernel=rbf;, score=-0.024 total time=   0.8s\n",
      "[CV 1/5] END .....C=100, gamma=0.1, kernel=rbf;, score=-0.023 total time=   0.8s\n",
      "[CV 2/5] END .....C=100, gamma=0.1, kernel=rbf;, score=-0.003 total time=   0.9s\n",
      "[CV 3/5] END ......C=100, gamma=0.1, kernel=rbf;, score=0.009 total time=   0.9s\n",
      "[CV 4/5] END ......C=100, gamma=0.1, kernel=rbf;, score=0.004 total time=   0.8s\n",
      "[CV 5/5] END .....C=100, gamma=0.1, kernel=rbf;, score=-0.012 total time=   0.8s\n",
      "[CV 1/5] END .....C=100, gamma=0.01, kernel=rbf;, score=0.110 total time=   1.2s\n",
      "[CV 2/5] END .....C=100, gamma=0.01, kernel=rbf;, score=0.143 total time=   1.3s\n",
      "[CV 3/5] END .....C=100, gamma=0.01, kernel=rbf;, score=0.137 total time=   1.2s\n",
      "[CV 4/5] END .....C=100, gamma=0.01, kernel=rbf;, score=0.121 total time=   1.2s\n",
      "[CV 5/5] END .....C=100, gamma=0.01, kernel=rbf;, score=0.129 total time=   1.3s\n",
      "[CV 1/5] END ....C=100, gamma=0.001, kernel=rbf;, score=0.508 total time=   2.0s\n",
      "[CV 2/5] END ....C=100, gamma=0.001, kernel=rbf;, score=0.584 total time=   1.4s\n",
      "[CV 3/5] END ....C=100, gamma=0.001, kernel=rbf;, score=0.576 total time=   1.4s\n",
      "[CV 4/5] END ....C=100, gamma=0.001, kernel=rbf;, score=0.573 total time=   1.5s\n",
      "[CV 5/5] END ....C=100, gamma=0.001, kernel=rbf;, score=0.581 total time=   1.9s\n",
      "[CV 1/5] END ...C=100, gamma=0.0001, kernel=rbf;, score=0.819 total time=   1.6s\n",
      "[CV 2/5] END ...C=100, gamma=0.0001, kernel=rbf;, score=0.860 total time=   1.5s\n",
      "[CV 3/5] END ...C=100, gamma=0.0001, kernel=rbf;, score=0.876 total time=   1.4s\n",
      "[CV 4/5] END ...C=100, gamma=0.0001, kernel=rbf;, score=0.838 total time=   1.4s\n",
      "[CV 5/5] END ...C=100, gamma=0.0001, kernel=rbf;, score=0.868 total time=   1.5s\n",
      "[CV 1/5] END ......C=1000, gamma=1, kernel=rbf;, score=-0.005 total time=   1.0s\n"
     ]
    },
    {
     "name": "stdout",
     "output_type": "stream",
     "text": [
      "[CV 2/5] END .......C=1000, gamma=1, kernel=rbf;, score=0.000 total time=   1.1s\n",
      "[CV 3/5] END ......C=1000, gamma=1, kernel=rbf;, score=-0.005 total time=   0.8s\n",
      "[CV 4/5] END .......C=1000, gamma=1, kernel=rbf;, score=0.000 total time=   1.1s\n",
      "[CV 5/5] END .......C=1000, gamma=1, kernel=rbf;, score=0.001 total time=   1.2s\n",
      "[CV 1/5] END .....C=1000, gamma=0.1, kernel=rbf;, score=0.018 total time=   1.2s\n",
      "[CV 2/5] END .....C=1000, gamma=0.1, kernel=rbf;, score=0.019 total time=   1.2s\n",
      "[CV 3/5] END .....C=1000, gamma=0.1, kernel=rbf;, score=0.022 total time=   1.0s\n",
      "[CV 4/5] END .....C=1000, gamma=0.1, kernel=rbf;, score=0.020 total time=   1.0s\n",
      "[CV 5/5] END .....C=1000, gamma=0.1, kernel=rbf;, score=0.027 total time=   1.1s\n",
      "[CV 1/5] END ....C=1000, gamma=0.01, kernel=rbf;, score=0.243 total time=   1.7s\n",
      "[CV 2/5] END ....C=1000, gamma=0.01, kernel=rbf;, score=0.257 total time=   1.3s\n",
      "[CV 3/5] END ....C=1000, gamma=0.01, kernel=rbf;, score=0.245 total time=   1.7s\n",
      "[CV 4/5] END ....C=1000, gamma=0.01, kernel=rbf;, score=0.226 total time=   1.6s\n",
      "[CV 5/5] END ....C=1000, gamma=0.01, kernel=rbf;, score=0.266 total time=   1.5s\n",
      "[CV 1/5] END ...C=1000, gamma=0.001, kernel=rbf;, score=0.630 total time=  12.0s\n",
      "[CV 2/5] END ...C=1000, gamma=0.001, kernel=rbf;, score=0.705 total time=  13.4s\n",
      "[CV 3/5] END ...C=1000, gamma=0.001, kernel=rbf;, score=0.731 total time=  10.3s\n",
      "[CV 4/5] END ...C=1000, gamma=0.001, kernel=rbf;, score=0.712 total time=  19.4s\n",
      "[CV 5/5] END ...C=1000, gamma=0.001, kernel=rbf;, score=0.733 total time=   9.0s\n",
      "[CV 1/5] END ..C=1000, gamma=0.0001, kernel=rbf;, score=0.878 total time=  13.0s\n",
      "[CV 2/5] END ..C=1000, gamma=0.0001, kernel=rbf;, score=0.901 total time=  11.3s\n",
      "[CV 3/5] END ..C=1000, gamma=0.0001, kernel=rbf;, score=0.887 total time=  11.5s\n",
      "[CV 4/5] END ..C=1000, gamma=0.0001, kernel=rbf;, score=0.879 total time=  11.0s\n",
      "[CV 5/5] END ..C=1000, gamma=0.0001, kernel=rbf;, score=0.903 total time=  11.5s\n"
     ]
    },
    {
     "data": {
      "text/plain": [
       "GridSearchCV(estimator=SVR(),\n",
       "             param_grid={'C': [0.1, 1, 10, 100, 1000],\n",
       "                         'gamma': [1, 0.1, 0.01, 0.001, 0.0001],\n",
       "                         'kernel': ['rbf']},\n",
       "             verbose=3)"
      ]
     },
     "execution_count": 15,
     "metadata": {},
     "output_type": "execute_result"
    }
   ],
   "source": [
    "from sklearn.svm import SVR\n",
    "from sklearn.model_selection import GridSearchCV\n",
    "\n",
    "svr = SVR()\n",
    "\n",
    "param_grid= {'C': [0.1, 1,10, 100, 1000], \n",
    "             'gamma': [1,0.1, 0.01, 0.001, 0.0001], \n",
    "             'kernel': ['rbf']}\n",
    "grid = GridSearchCV(SVR(), param_grid, refit=True, verbose=3)\n",
    "grid.fit(X_train, Y_train)"
   ]
  },
  {
   "cell_type": "code",
   "execution_count": 16,
   "id": "b2c7a3f1",
   "metadata": {},
   "outputs": [],
   "source": [
    "svr = SVR(C=10, gamma=0.01, kernel='rbf')\n",
    "svr.fit(X_train, Y_train)\n",
    "svr_pred = svr.predict(X_test)"
   ]
  },
  {
   "cell_type": "code",
   "execution_count": 17,
   "id": "2840c901",
   "metadata": {},
   "outputs": [],
   "source": [
    "import joblib\n",
    "joblib.dump(rg, 'stock.pkl')\n",
    "ridge_from_joblib = model = joblib.load('stock.pkl')"
   ]
  },
  {
   "cell_type": "code",
   "execution_count": null,
   "id": "33abc234",
   "metadata": {},
   "outputs": [],
   "source": []
  }
 ],
 "metadata": {
  "kernelspec": {
   "display_name": "Python 3 (ipykernel)",
   "language": "python",
   "name": "python3"
  },
  "language_info": {
   "codemirror_mode": {
    "name": "ipython",
    "version": 3
   },
   "file_extension": ".py",
   "mimetype": "text/x-python",
   "name": "python",
   "nbconvert_exporter": "python",
   "pygments_lexer": "ipython3",
   "version": "3.9.6"
  }
 },
 "nbformat": 4,
 "nbformat_minor": 5
}
